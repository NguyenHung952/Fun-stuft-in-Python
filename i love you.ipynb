{
 "cells": [
  {
   "cell_type": "code",
   "execution_count": 1,
   "id": "40ff844d-7a14-40b7-8e54-7e592a4074bd",
   "metadata": {},
   "outputs": [],
   "source": [
    "import turtle\n",
    "\n",
    "t = turtle.Turtle()\n",
    "turtle.title(\"For My Bunny\")\n",
    "\n",
    "screen=turtle.Screen()\n",
    "screen.bgcolor(\"black\")\n",
    "\n",
    "t.color(\"red\")\n",
    "t.fillcolor(\"red\")\n",
    "t.begin_fill()\n",
    "\n",
    "t.left(140)\n",
    "t.forward(180)\n",
    "t.circle(-90, 200)\n",
    "t.setheading(60)\n",
    "t.circle(-90, 200)\n",
    "t.forward(180)\n",
    "\n",
    "t.end_fill()\n",
    "\n",
    "t.up()\n",
    "t.setpos(-65, 150)\n",
    "t.down()\n",
    "t.color('lightgreen')\n",
    "t.write(\"I LOVE YOU\", font=(\"Verdana\", 14, \"bold\"))\n",
    "\n",
    "t.ht()\n",
    "\n",
    "turtle.mainloop()"
   ]
  },
  {
   "cell_type": "code",
   "execution_count": null,
   "id": "fc22be8f-fe69-4694-9a9f-52db32e29ee9",
   "metadata": {},
   "outputs": [],
   "source": []
  }
 ],
 "metadata": {
  "kernelspec": {
   "display_name": "Python 3 (ipykernel)",
   "language": "python",
   "name": "python3"
  },
  "language_info": {
   "codemirror_mode": {
    "name": "ipython",
    "version": 3
   },
   "file_extension": ".py",
   "mimetype": "text/x-python",
   "name": "python",
   "nbconvert_exporter": "python",
   "pygments_lexer": "ipython3",
   "version": "3.9.12"
  }
 },
 "nbformat": 4,
 "nbformat_minor": 5
}
