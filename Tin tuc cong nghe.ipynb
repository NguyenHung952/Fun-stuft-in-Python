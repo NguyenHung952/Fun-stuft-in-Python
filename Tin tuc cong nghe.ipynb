{
 "cells": [
  {
   "cell_type": "code",
   "execution_count": 1,
   "id": "6952c042-d31b-4b53-8b77-e500af2f2e7b",
   "metadata": {},
   "outputs": [
    {
     "name": "stdout",
     "output_type": "stream",
     "text": [
      "Tiêu đề là: \n",
      "                            Nghi vấn iPhone 14 Pro có thể truyền điện khi đang sạc pin                        \n",
      "Nội dung: \n",
      "                    Theo Mydrivers, người dùng iPhone 14 Pro mới đã chia sẻ trên Weibo rằng họ gặp vấn đề vỏ điện thoại...                \n",
      "\n",
      "Tiêu đề là: \n",
      "                            Lộ diện 5 smartphone Xperia sẽ được Sony ra mắt vào năm 2023                        \n",
      "Nội dung: \n",
      "                    Người hâm mộ điện thoại Sony Xperia được cho là sẽ có rất nhiều điều để mong đợi vào năm sau khi một...                \n",
      "\n",
      "Tiêu đề là: \n",
      "                            Ý tưởng Xiaomi Xiaomi 12 Ultra gắn ống kính máy ảnh khiến fan \"phát sốt\"                        \n",
      "Nội dung: \n",
      "                    Mới đây, Xiaomi đã tiết lộ khái niệm điện thoại Xiaomi 12S Ultra lắp ống kính Leica M, chụp ảnh cực...                \n",
      "\n",
      "Tiêu đề là: \n",
      "                            Bảng giá smartphone Vivo tháng 11/2022: Vivo V23 series và X80 giảm 800.000 đồng                        \n",
      "Nội dung: \n",
      "                    Mức giảm 800.000 đồng xuất hiện trên một vài dòng smartphone Vivo vốn đã có giá cao.                \n",
      "\n",
      "Tiêu đề là: \n",
      "                            Apple có động thái chưa từng có khi sản xuất iPhone 14 gặp khó                        \n",
      "Nội dung: \n",
      "                    Trong bối cảnh đối diện khó khăn khi sản xuất iPhone 14 do nhà máy iPhone lớn nhất ở Trung Quốc bị...                \n",
      "\n",
      "Tiêu đề là: \n",
      "                            Chiêm ngưỡng ý tưởng Galaxy S23 Ultra siêu đẹp mắt                        \n",
      "Nội dung: \n",
      "                    Một nhà thiết kế nổi tiếng với biệt danh 4RMD đã tạo ra bản concept Galaxy S23 Ultra dựa trên những...                \n",
      "\n",
      "Tiêu đề là: \n",
      "                            Bảng giá điện thoại Nokia tháng 11/2022: Nokia C30 giảm gần 1 triệu đồng                        \n",
      "Nội dung: \n",
      "                    Nokia C30 là smartphone đang giảm giá mạnh nhất của Nokia trong tháng 11 này.                \n",
      "\n",
      "Tiêu đề là: \n",
      "                            Google lo sốt vó vì... Huawei                        \n",
      "Nội dung: \n",
      "                    Giám đốc nhóm kinh doanh tiêu dùng He Gang của Huawei cho biết vào hôm 4/11 rằng HarmonyOS 4.0 sẽ ra...                \n",
      "\n",
      "Tiêu đề là: \n",
      "                            Nguy cơ thiếu hụt iPhone 14 làm quà cuối năm                        \n",
      "Nội dung: \n",
      "                    Việc thực hiện chặt chẽ chính sách Zero Covid của chính phủ Trung Quốc đang có tác động không chỉ...                \n",
      "\n",
      "Tiêu đề là: \n",
      "                            Fan Samsung nên mua Galaxy S22 hay chờ Galaxy S23?                        \n",
      "Nội dung: \n",
      "                    Ở thời điểm hiện tại, nhiều người tỏ ra khá đắn đo khi lựa chọn mua thế hệ Galaxy S22 hay đợi Galaxy...                \n",
      "\n",
      "Tiêu đề là: \n",
      "                            Bảng giá smartphone Realme tháng 11/2022: Nhiều dòng giảm 1 triệu đồng                        \n",
      "Nội dung: \n",
      "                    Mức giảm 1 triệu đồng đang được áp dụng cho Realme C11 (4GB/64GB), C25Y, C21-Y tất cả phiên bản,...                \n",
      "\n"
     ]
    }
   ],
   "source": [
    "from bs4 import BeautifulSoup\n",
    "import requests\n",
    "url = 'https://www.24h.com.vn/tin-tuc-cong-nghe-c453.html'\n",
    "web = requests.get(url).text\n",
    "soup = BeautifulSoup(web, 'html.parser')\n",
    "#print(soup)\n",
    "data = soup.find('div', class_=\"cate-24h-car-news-rand\")\n",
    "#print(data)\n",
    "data1=soup.find_all('article', class_=\"cate-24h-car-news-rand__box d-flex margin-bottom-30\")\n",
    "#print(data1)\n",
    "for i in data1:\n",
    "    \n",
    "    tieu_de = i.header.a.text\n",
    "    print(\"Tiêu đề là:\", tieu_de)\n",
    "    \n",
    "    mo_ta = i.find('div', class_=\"cate-24h-car-news-rand__sum\")\n",
    "    if mo_ta is None:\n",
    "        continue\n",
    "    else:\n",
    "        print(\"Nội dung:\", mo_ta.text)\n",
    "        \n",
    "    print('')"
   ]
  },
  {
   "cell_type": "code",
   "execution_count": null,
   "id": "5bd14da8-d291-49fd-805f-3cd7185bf344",
   "metadata": {},
   "outputs": [],
   "source": []
  },
  {
   "cell_type": "code",
   "execution_count": null,
   "id": "a0e6a630-1af7-4117-87d6-ee8d0b218b8b",
   "metadata": {},
   "outputs": [],
   "source": []
  }
 ],
 "metadata": {
  "kernelspec": {
   "display_name": "Python 3 (ipykernel)",
   "language": "python",
   "name": "python3"
  },
  "language_info": {
   "codemirror_mode": {
    "name": "ipython",
    "version": 3
   },
   "file_extension": ".py",
   "mimetype": "text/x-python",
   "name": "python",
   "nbconvert_exporter": "python",
   "pygments_lexer": "ipython3",
   "version": "3.9.12"
  }
 },
 "nbformat": 4,
 "nbformat_minor": 5
}
